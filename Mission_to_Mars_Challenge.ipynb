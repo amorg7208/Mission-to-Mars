{
 "cells": [
  {
   "cell_type": "code",
   "execution_count": 1,
   "id": "29480e32",
   "metadata": {},
   "outputs": [],
   "source": [
    "# Import Splinter and BeautifulSoup\n",
    "from splinter import Browser\n",
    "from bs4 import BeautifulSoup as soup\n",
    "from webdriver_manager.chrome import ChromeDriverManager\n",
    "import pandas as pd"
   ]
  },
  {
   "cell_type": "code",
   "execution_count": 2,
   "id": "cf018361",
   "metadata": {},
   "outputs": [],
   "source": [
    "executable_path = {'executable_path': ChromeDriverManager().install()}\n",
    "browser = Browser('chrome', **executable_path, headless=False)"
   ]
  },
  {
   "cell_type": "code",
   "execution_count": null,
   "id": "2d419e07",
   "metadata": {},
   "outputs": [],
   "source": [
    "# Visit the mars nasa news site\n",
    "url = 'https://redplanetscience.com'\n",
    "browser.visit(url)\n",
    "# Optional delay for loading the page\n",
    "browser.is_element_present_by_css('div.list_text', wait_time=1)"
   ]
  },
  {
   "cell_type": "code",
   "execution_count": null,
   "id": "1cd265e4",
   "metadata": {},
   "outputs": [],
   "source": [
    "html = browser.html\n",
    "news_soup = soup(html, 'html.parser')\n",
    "slide_elem = news_soup.select_one('div.list_text')"
   ]
  },
  {
   "cell_type": "code",
   "execution_count": null,
   "id": "7d16b2af",
   "metadata": {},
   "outputs": [],
   "source": [
    "slide_elem.find('div', class_='content_title')\n"
   ]
  },
  {
   "cell_type": "code",
   "execution_count": null,
   "id": "e8b16952",
   "metadata": {},
   "outputs": [],
   "source": [
    "# Use the parent element to find the first `a` tag and save it as `news_title`\n",
    "news_title = slide_elem.find('div', class_='content_title').get_text()\n",
    "news_title"
   ]
  },
  {
   "cell_type": "code",
   "execution_count": null,
   "id": "55df4d59",
   "metadata": {},
   "outputs": [],
   "source": [
    "# Use the parent element to find the paragraph text\n",
    "news_p = slide_elem.find('div', class_='article_teaser_body').get_text()\n",
    "news_p"
   ]
  },
  {
   "cell_type": "markdown",
   "id": "2b74de5a",
   "metadata": {},
   "source": [
    "### JPL Space Images Featured Images"
   ]
  },
  {
   "cell_type": "code",
   "execution_count": null,
   "id": "263dfa66",
   "metadata": {},
   "outputs": [],
   "source": [
    "# Visit URL\n",
    "url = 'https://spaceimages-mars.com'\n",
    "browser.visit(url)"
   ]
  },
  {
   "cell_type": "code",
   "execution_count": null,
   "id": "99a1e2a6",
   "metadata": {},
   "outputs": [],
   "source": [
    "# Find and click the full image button\n",
    "full_image_elem = browser.find_by_tag('button')[1]\n",
    "full_image_elem.click()"
   ]
  },
  {
   "cell_type": "code",
   "execution_count": null,
   "id": "d536d651",
   "metadata": {},
   "outputs": [],
   "source": [
    "# Parse the resulting html with soup\n",
    "html = browser.html\n",
    "img_soup = soup(html, 'html.parser')\n",
    "img_soup"
   ]
  },
  {
   "cell_type": "code",
   "execution_count": null,
   "id": "41bc6596",
   "metadata": {},
   "outputs": [],
   "source": [
    "# Find the relative image url\n",
    "img_url_rel = img_soup.find('img', class_='fancybox-image').get('src')\n",
    "img_url_rel"
   ]
  },
  {
   "cell_type": "code",
   "execution_count": null,
   "id": "6d0b96d5",
   "metadata": {},
   "outputs": [],
   "source": [
    "# Use the base URL to create an absolute URL\n",
    "img_url = f'https://spaceimages-mars.com/{img_url_rel}'\n",
    "img_url"
   ]
  },
  {
   "cell_type": "markdown",
   "id": "54cad25d",
   "metadata": {},
   "source": [
    "### Mars Facts"
   ]
  },
  {
   "cell_type": "code",
   "execution_count": null,
   "id": "61720808",
   "metadata": {},
   "outputs": [],
   "source": [
    "df = pd.read_html('https://galaxyfacts-mars.com')[0]\n",
    "df.columns=['description', 'Mars', 'Earth']\n",
    "df.set_index('description', inplace=True)\n",
    "df"
   ]
  },
  {
   "cell_type": "code",
   "execution_count": null,
   "id": "088ba73e",
   "metadata": {},
   "outputs": [],
   "source": [
    "df.to_html()"
   ]
  },
  {
   "cell_type": "code",
   "execution_count": null,
   "id": "1e1162de",
   "metadata": {},
   "outputs": [],
   "source": [
    "#browser.quit()"
   ]
  },
  {
   "cell_type": "markdown",
   "id": "afed3060",
   "metadata": {},
   "source": [
    "# Mission to Mars Challenge: D1 Scrape High-Resolution Mars' Hemisphere Images and Titles"
   ]
  },
  {
   "cell_type": "markdown",
   "id": "e8b18ae0",
   "metadata": {},
   "source": [
    "### Hemispheres"
   ]
  },
  {
   "cell_type": "code",
   "execution_count": 3,
   "id": "355e91f0",
   "metadata": {},
   "outputs": [],
   "source": [
    "# 1. Use browser to visit the URL \n",
    "url = 'https://marshemispheres.com/'\n",
    "\n",
    "browser.visit(url)"
   ]
  },
  {
   "cell_type": "code",
   "execution_count": 4,
   "id": "d041d04d",
   "metadata": {},
   "outputs": [],
   "source": [
    "# Scrape page into Soup\n",
    "html = browser.html\n",
    "soup = soup(html, \"html.parser\")"
   ]
  },
  {
   "cell_type": "code",
   "execution_count": 7,
   "id": "27e5fc0b",
   "metadata": {},
   "outputs": [],
   "source": [
    "# 2. Create a list to hold the images and titles.\n",
    "hemisphere_image_urls = []\n",
    "# 3. Write code to retrieve the image urls and titles for each hemisphere.\n",
    "#look for all the links then\n",
    "moon_links = browser.find_by_css(\"a.product-item img\")\n",
    "#loop through each link in the length of moon_links(hypothetically this could update to be more than four)\n",
    "for i in range (len(moon_links)):\n",
    "    #create a dictionary to hold links and titles\n",
    "    moon_dictionary = {}\n",
    "    #find links, click links, save links to dictionary\n",
    "    browser.find_by_css(\"a.product-item img\")[i].click()\n",
    "    full_image = browser.find_by_text(\"Sample\").first\n",
    "    img_url = full_image[\"href\"]\n",
    "    moon_dictionary[\"img_url\"] = img_url\n",
    "    #find title, click title, save title to dictionary\n",
    "    moon_title = browser.find_by_css(\"h2.title\").text\n",
    "    moon_dictionary[\"moon_title\"] = moon_title\n",
    "    hemisphere_image_urls.append(moon_dictionary)\n",
    "    #go back to main url and repeate loop\n",
    "    browser.back()\n",
    "    \n",
    "#print(moon_dictionary)\n",
    "#print(picture)\n",
    "#print(moon_title)\n",
    "\n",
    "# #reference html from website:\n",
    "# #link html for each image\n",
    "# <a href=\"/search/map/Mars/Viking/cerberus_enhanced\" class=\"itemLink product-item\"><h3>Cerberus Hemisphere Enhanced</h3></a>\n",
    "# <a href=\"/search/map/Mars/Viking/schiaparelli_enhanced\" class=\"itemLink product-item\"><h3>Schiaparelli Hemisphere Enhanced</h3></a>\n",
    "# <a href=\"/search/map/Mars/Viking/syrtis_major_enhanced\" class=\"itemLink product-item\"><h3>Syrtis Major Hemisphere Enhanced</h3></a>\n",
    "# <a href=\"/search/map/Mars/Viking/valles_marineris_enhanced\" class=\"itemLink product-item\"><h3>Valles Marineris Hemisphere Enhanced</h3></a>\n",
    "\n",
    "# #specific html for each image\n",
    "# <img class=\"wide-image\" src=\"/cache/images/f5e372a36edfa389625da6d0cc25d905_cerberus_enhanced.tif_full.jpg\">\n",
    "# <h2 class=\"title\">Cerberus Hemisphere Enhanced</h2>\n",
    "\n",
    "# <img class=\"wide-image\" src=\"/cache/images/3778f7b43bbbc89d6e3cfabb3613ba93_schiaparelli_enhanced.tif_full.jpg\">\n",
    "# <h2 class=\"title\">Schiaparelli Hemisphere Enhanced</h2>\n",
    "\n",
    "# <img class=\"wide-image\" src=\"/cache/images/555e6403a6ddd7ba16ddb0e471cadcf7_syrtis_major_enhanced.tif_full.jpg\">\n",
    "# <h2 class=\"title\">Syrtis Major Hemisphere Enhanced</h2>\n",
    "\n",
    "# <img class=\"wide-image\" src=\"/cache/images/b3c7c6c9138f57b4756be9b9c43e3a48_valles_marineris_enhanced.tif_full.jpg\">\n",
    "# <h2 class=\"title\">Valles Marineris Hemisphere Enhanced</h2>"
   ]
  },
  {
   "cell_type": "code",
   "execution_count": 8,
   "id": "f0e6f6b8",
   "metadata": {},
   "outputs": [
    {
     "data": {
      "text/plain": [
       "[{'img_url': 'https://marshemispheres.com/images/full.jpg',\n",
       "  'moon_title': 'Cerberus Hemisphere Enhanced'},\n",
       " {'img_url': 'https://marshemispheres.com/images/schiaparelli_enhanced-full.jpg',\n",
       "  'moon_title': 'Schiaparelli Hemisphere Enhanced'},\n",
       " {'img_url': 'https://marshemispheres.com/images/syrtis_major_enhanced-full.jpg',\n",
       "  'moon_title': 'Syrtis Major Hemisphere Enhanced'},\n",
       " {'img_url': 'https://marshemispheres.com/images/valles_marineris_enhanced-full.jpg',\n",
       "  'moon_title': 'Valles Marineris Hemisphere Enhanced'}]"
      ]
     },
     "execution_count": 8,
     "metadata": {},
     "output_type": "execute_result"
    }
   ],
   "source": [
    "# 4. Print the list that holds the dictionary of each image url and title.\n",
    "hemisphere_image_urls"
   ]
  },
  {
   "cell_type": "code",
   "execution_count": 9,
   "id": "a4a62a12",
   "metadata": {},
   "outputs": [],
   "source": [
    "# 5. Quit the browser\n",
    "browser.quit()"
   ]
  },
  {
   "cell_type": "code",
   "execution_count": null,
   "id": "083f4dfa",
   "metadata": {},
   "outputs": [],
   "source": []
  }
 ],
 "metadata": {
  "kernelspec": {
   "display_name": "PythonData",
   "language": "python",
   "name": "pythondata"
  },
  "language_info": {
   "codemirror_mode": {
    "name": "ipython",
    "version": 3
   },
   "file_extension": ".py",
   "mimetype": "text/x-python",
   "name": "python",
   "nbconvert_exporter": "python",
   "pygments_lexer": "ipython3",
   "version": "3.9.12"
  }
 },
 "nbformat": 4,
 "nbformat_minor": 5
}
